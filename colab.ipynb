{
 "cells": [
  {
   "cell_type": "code",
   "execution_count": 1,
   "id": "f8fba153",
   "metadata": {},
   "outputs": [
    {
     "name": "stdout",
     "output_type": "stream",
     "text": [
      "69e2bf938eb5b88726e252b7a93d2fc15544045b.torrent\n",
      "985b937fed1f92ed35987f635cf2864c5d610824.torrent\n",
      "['magnet:?xt=urn:btih:NHRL7E4OWW4IOJXCKK32SPJPYFKUIBC3', 'magnet:?xt=urn:btih:69e2bf938eb5b88726e252b7a93d2fc15544045b']\n",
      "['magnet:?xt=urn:btih:TBNZG77ND6JO2NMYP5RVZ4UGJROWCCBE', 'magnet:?xt=urn:btih:985b937fed1f92ed35987f635cf2864c5d610824']\n"
     ]
    }
   ],
   "source": [
    "import requests\n",
    "from bs4 import BeautifulSoup\n",
    "\n",
    "def download_file(url):\n",
    "    local_filename = url.split('/')[-1]\n",
    "    # NOTE the stream=True parameter below\n",
    "    with requests.get(url, stream=True) as r:\n",
    "        r.raise_for_status()\n",
    "        with open(local_filename, 'wb') as f:\n",
    "            for chunk in r.iter_content(chunk_size=8192):\n",
    "                # If you have chunk encoded response uncomment if\n",
    "                # and set chunk_size parameter to None.\n",
    "                #if chunk:\n",
    "                f.write(chunk)\n",
    "    return local_filename\n",
    "\n",
    "\n",
    "httplink = [\n",
    "\"https://www.dmhy.org/topics/view/693073_04_Aharen-san_wa_Hakarenai_S2_01_1080p.html\",\n",
    "\"https://www.dmhy.org/topics/view/693539_04_Aharen-san_wa_Hakarenai_S2_02_1080p.html\",\n",
    "]\n",
    "\n",
    "\n",
    "torrentid = []\n",
    "magnetlink = []\n",
    "\n",
    "\n",
    "for httpmount in httplink:\n",
    "  response = requests.get(\n",
    "      httpmount)\n",
    "  soup = BeautifulSoup(response.text, \"html.parser\")\n",
    "\n",
    "  titles = soup.find_all(\"div\", id=\"tabs-1\")\n",
    "  for title in titles:\n",
    "    myto = \"https:\"+title.find_all(\"a\")[0].get('href')\n",
    "    torrentid.append(myto[31:])\n",
    "\n",
    "    download_file(myto)\n",
    "\n",
    "    target = \"\"\n",
    "    head = 100\n",
    "    mag1 = title.find_all(\"p\")[0].find_all(\"p\")[0].text[10:]\n",
    "    mag2 = title.find_all(\"p\")[0].find_all(\"p\")[1].text[16:]\n",
    "    magnetlink.append([mag1,mag2])\n",
    "\n",
    "for i in torrentid:\n",
    "  print(i)\n",
    "for i in magnetlink:\n",
    "  print(i)\n"
   ]
  },
  {
   "cell_type": "code",
   "execution_count": 2,
   "id": "601f6f23",
   "metadata": {},
   "outputs": [
    {
     "name": "stdout",
     "output_type": "stream",
     "text": [
      "<libtorrent.torrent_info object at 0x74630265e520>\n"
     ]
    },
    {
     "name": "stderr",
     "output_type": "stream",
     "text": [
      "/tmp/ipykernel_11097/178444606.py:7: DeprecationWarning: listen_on() is deprecated\n",
      "  ses.listen_on(6881, 6891)\n",
      "/tmp/ipykernel_11097/178444606.py:13: DeprecationWarning: listen_on() is deprecated\n",
      "  ses.listen_on(6881, 6891)\n",
      "/tmp/ipykernel_11097/178444606.py:23: DeprecationWarning: add_magnet_uri() is deprecated\n",
      "  downloads.append(lt.add_magnet_uri(ses, magnetlink[iii][0], params))\n",
      "/tmp/ipykernel_11097/178444606.py:24: DeprecationWarning: add_magnet_uri() is deprecated\n",
      "  downloads.append(lt.add_magnet_uri(ses, magnetlink[iii][1], params))\n"
     ]
    },
    {
     "data": {
      "application/vnd.jupyter.widget-view+json": {
       "model_id": "27164890d27b4aaeba6b9829f42fb8df",
       "version_major": 2,
       "version_minor": 0
      },
      "text/plain": [
       "FloatSlider(value=0.0, disabled=True, layout=Layout(width='auto'), step=0.01, style=SliderStyle(description_wi…"
      ]
     },
     "metadata": {},
     "output_type": "display_data"
    },
    {
     "data": {
      "application/vnd.jupyter.widget-view+json": {
       "model_id": "ecfbd30ee68d47d08d1bf67c4d592445",
       "version_major": 2,
       "version_minor": 0
      },
      "text/plain": [
       "FloatSlider(value=0.0, disabled=True, layout=Layout(width='auto'), step=0.01, style=SliderStyle(description_wi…"
      ]
     },
     "metadata": {},
     "output_type": "display_data"
    },
    {
     "data": {
      "application/vnd.jupyter.widget-view+json": {
       "model_id": "0199fa4a5e3a40c58759f1270b4ff56a",
       "version_major": 2,
       "version_minor": 0
      },
      "text/plain": [
       "FloatSlider(value=0.0, disabled=True, layout=Layout(width='auto'), step=0.01, style=SliderStyle(description_wi…"
      ]
     },
     "metadata": {},
     "output_type": "display_data"
    },
    {
     "name": "stderr",
     "output_type": "stream",
     "text": [
      "/tmp/ipykernel_11097/178444606.py:52: DeprecationWarning: is_seed() is deprecated\n",
      "  if not download.is_seed():\n",
      "/tmp/ipykernel_11097/178444606.py:57: DeprecationWarning: name() is deprecated\n",
      "  download.name(),\n"
     ]
    },
    {
     "name": "stdout",
     "output_type": "stream",
     "text": [
      "<libtorrent.torrent_info object at 0x74630265f6a0>\n"
     ]
    },
    {
     "name": "stderr",
     "output_type": "stream",
     "text": [
      "/tmp/ipykernel_11097/178444606.py:70: DeprecationWarning: name() is deprecated\n",
      "  print(download.name(), \"complete\")\n"
     ]
    },
    {
     "data": {
      "application/vnd.jupyter.widget-view+json": {
       "model_id": "50cd462b8bf04ae8bdf42e2066cb8519",
       "version_major": 2,
       "version_minor": 0
      },
      "text/plain": [
       "FloatSlider(value=0.0, disabled=True, layout=Layout(width='auto'), step=0.01, style=SliderStyle(description_wi…"
      ]
     },
     "metadata": {},
     "output_type": "display_data"
    },
    {
     "data": {
      "application/vnd.jupyter.widget-view+json": {
       "model_id": "4946b75983154e42b2d354f97312994e",
       "version_major": 2,
       "version_minor": 0
      },
      "text/plain": [
       "FloatSlider(value=0.0, disabled=True, layout=Layout(width='auto'), step=0.01, style=SliderStyle(description_wi…"
      ]
     },
     "metadata": {},
     "output_type": "display_data"
    },
    {
     "data": {
      "application/vnd.jupyter.widget-view+json": {
       "model_id": "a8a2a38908e440fb9fcba5710a5e837d",
       "version_major": 2,
       "version_minor": 0
      },
      "text/plain": [
       "FloatSlider(value=0.0, disabled=True, layout=Layout(width='auto'), step=0.01, style=SliderStyle(description_wi…"
      ]
     },
     "metadata": {},
     "output_type": "display_data"
    },
    {
     "name": "stdout",
     "output_type": "stream",
     "text": [
      "[Nekomoe kissaten][Aharen-san wa Hakarenai S2][02][1080p][CHT].mp4 complete\n"
     ]
    },
    {
     "name": "stderr",
     "output_type": "stream",
     "text": [
      "Bad pipe message: %s [b'0.9,image/avif,image/webp,image/apng,*/*;q=0.8,application/signed-exchange;v=b3;q=0.7\\r\\nHost: localhost:45631\\r\\nUs', b'-Agent: Mozilla/5.0 (Windows NT 10.0; Win64; x64) AppleWebKit/537.36 (KHTML, like Gecko) Chrome/138.']\n",
      "Bad pipe message: %s [b'0.0 Safari/537.36\\r\\nAccept-Encoding: gzip, defla']\n",
      "Bad pipe message: %s [b', br, zstd\\r\\nAccept-Language: zh-TW,zh;q=0.9,en-US;q=0.8,en;q=0.7\\r\\nReferer: https://curly-space-happiness-5p4xqj66wv', b'px5q.github.dev/\\r\\nX-Request-ID: b81daae02153d2f021b3f17f92cd9953\\r\\nX-Real-IP: 223.137.10.22\\r\\nX-Forwarde']\n",
      "Bad pipe message: %s [b'Port: 443\\r\\nX-Forwarded-Scheme: https\\r\\nX-Original-URI: /\\r\\nX-Scheme: https\\r\\nsec-ch-ua: \"Not)A;Brand\";', b'\"8\", \"Chromium\";v=\"138\", \"Google Chrome\";v=\"138\"\\r\\nsec-ch-ua-mobile: ?0\\r\\nsec-ch-ua-platform: \"Windows\"\\r\\nsec-fetch-site', b'same-site\\r\\nsec-fetch-mode: navigate\\r\\nsec-fetch-user: ?1\\r\\n']\n"
     ]
    }
   ],
   "source": [
    "import time\n",
    "from IPython.display import display\n",
    "import ipywidgets as widgets\n",
    "import libtorrent as lt\n",
    "\n",
    "ses = lt.session()\n",
    "ses.listen_on(6881, 6891)\n",
    "downloads = []\n",
    "\n",
    "\n",
    "for iii in range(len(torrentid)):\n",
    "  ses = lt.session()\n",
    "  ses.listen_on(6881, 6891)\n",
    "  downloads = []\n",
    "  print(lt.torrent_info(torrentid[iii]))\n",
    "  params = {\n",
    "      \"save_path\": \"/workspaces/tools/Torrent\",\n",
    "      \"ti\": lt.torrent_info(torrentid[iii]),\n",
    "  }\n",
    "  downloads.append(ses.add_torrent(params))\n",
    "\n",
    "  params = {\"save_path\": \"/workspaces/tools/Torrent\"}\n",
    "  downloads.append(lt.add_magnet_uri(ses, magnetlink[iii][0], params))\n",
    "  downloads.append(lt.add_magnet_uri(ses, magnetlink[iii][1], params))\n",
    "\n",
    "  state_str = [\n",
    "      \"queued\",\n",
    "      \"checking\",\n",
    "      \"downloading metadata\",\n",
    "      \"downloading\",\n",
    "      \"finished\",\n",
    "      \"seeding\",\n",
    "      \"allocating\",\n",
    "      \"checking fastresume\",\n",
    "  ]\n",
    "\n",
    "  layout = widgets.Layout(width=\"auto\")\n",
    "  style = {\"description_width\": \"initial\"}\n",
    "  download_bars = [\n",
    "      widgets.FloatSlider(\n",
    "          step=0.01, disabled=True, layout=layout, style=style\n",
    "      )\n",
    "      for _ in downloads\n",
    "  ]\n",
    "  display(*download_bars)\n",
    "\n",
    "  try:\n",
    "    while downloads:\n",
    "        next_shift = 0\n",
    "        for index, download in enumerate(downloads[:]):\n",
    "            bar = download_bars[index + next_shift]\n",
    "            if not download.is_seed():\n",
    "                s = download.status()\n",
    "\n",
    "                bar.description = \" \".join(\n",
    "                    [\n",
    "                        download.name(),\n",
    "                        str(s.download_rate / 1000),\n",
    "                        \"kB/s\",\n",
    "                        state_str[s.state],\n",
    "                    ]\n",
    "                )\n",
    "                bar.value = s.progress * 100\n",
    "            else:\n",
    "                next_shift -= 1\n",
    "                ses.remove_torrent(download)\n",
    "                downloads.remove(download)\n",
    "                bar.close() # Seems to be not working in Colab (see https://github.com/googlecolab/colabtools/issues/726#issue-486731758)\n",
    "                download_bars.remove(bar)\n",
    "                print(download.name(), \"complete\")\n",
    "        time.sleep(1)\n",
    "  except:\n",
    "    continue"
   ]
  }
 ],
 "metadata": {
  "kernelspec": {
   "display_name": "Python 3",
   "language": "python",
   "name": "python3"
  },
  "language_info": {
   "codemirror_mode": {
    "name": "ipython",
    "version": 3
   },
   "file_extension": ".py",
   "mimetype": "text/x-python",
   "name": "python",
   "nbconvert_exporter": "python",
   "pygments_lexer": "ipython3",
   "version": "3.12.1"
  }
 },
 "nbformat": 4,
 "nbformat_minor": 5
}
